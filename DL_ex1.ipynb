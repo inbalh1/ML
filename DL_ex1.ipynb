{
  "cells": [
    {
      "cell_type": "markdown",
      "metadata": {
        "id": "view-in-github",
        "colab_type": "text"
      },
      "source": [
        "<a href=\"https://colab.research.google.com/github/inbalh1/ML/blob/main/DL_ex1.ipynb\" target=\"_parent\"><img src=\"https://colab.research.google.com/assets/colab-badge.svg\" alt=\"Open In Colab\"/></a>"
      ]
    },
    {
      "cell_type": "code",
      "execution_count": 1,
      "metadata": {
        "colab": {
          "base_uri": "https://localhost:8080/"
        },
        "id": "zqy_C_lHYIBg",
        "outputId": "45ec82b8-3003-456c-b70a-64767636e0f6"
      },
      "outputs": [
        {
          "output_type": "stream",
          "name": "stdout",
          "text": [
            "Using cpu device\n"
          ]
        }
      ],
      "source": [
        "import torch\n",
        "from torch import nn\n",
        "from torch.utils.data import DataLoader\n",
        "from torchvision import datasets\n",
        "from torchvision.transforms import ToTensor\n",
        "import matplotlib.pyplot as plt\n",
        "from sklearn.svm import SVC\n",
        "\n",
        "import pickle\n",
        "import os\n",
        "from google.colab import files\n",
        "import itertools\n",
        "\n",
        "\n",
        "device = \"cuda\" if torch.cuda.is_available() else \"mps\" if torch.backends.mps.is_available() else \"cpu\"\n",
        "print(f\"Using {device} device\")\n",
        "\n",
        "BATCH_SIZE = 64\n",
        "TRAIN_SIZE = 5000\n",
        "TEST_SIZE = 1000\n",
        "DEFAULT_NUM_OF_EPOCHS = 60"
      ]
    },
    {
      "cell_type": "markdown",
      "metadata": {
        "id": "ONu4U2nVb64U"
      },
      "source": [
        "# Question 1: setup and baseline"
      ]
    },
    {
      "cell_type": "markdown",
      "metadata": {
        "id": "ZPm31L6RcAr0"
      },
      "source": [
        "### setup"
      ]
    },
    {
      "cell_type": "code",
      "execution_count": 2,
      "metadata": {
        "colab": {
          "base_uri": "https://localhost:8080/"
        },
        "id": "RgoYenCEb32_",
        "outputId": "3a65ab84-8c3a-4959-ed47-9a4d97ee10be"
      },
      "outputs": [
        {
          "output_type": "stream",
          "name": "stdout",
          "text": [
            "Downloading https://www.cs.toronto.edu/~kriz/cifar-10-python.tar.gz to data/cifar-10-python.tar.gz\n"
          ]
        },
        {
          "output_type": "stream",
          "name": "stderr",
          "text": [
            "100%|██████████| 170498071/170498071 [00:01<00:00, 85747526.98it/s] \n"
          ]
        },
        {
          "output_type": "stream",
          "name": "stdout",
          "text": [
            "Extracting data/cifar-10-python.tar.gz to data\n",
            "Files already downloaded and verified\n"
          ]
        }
      ],
      "source": [
        "training_data = datasets.CIFAR10(\n",
        "    root=\"data\",\n",
        "    train=True,\n",
        "    download=True, # set to true for first run - TODO: find elegant solution\n",
        "    transform=ToTensor(),\n",
        ")\n",
        "\n",
        "# Download test data from open datasets.\n",
        "test_data = datasets.CIFAR10(\n",
        "    root=\"data\",\n",
        "    train=False,\n",
        "    download=True,# set to true for first run - TODO: find elegant solution\n",
        "    transform=ToTensor(),\n",
        ")"
      ]
    },
    {
      "cell_type": "markdown",
      "metadata": {
        "id": "TLbnSbmxcCqe"
      },
      "source": [
        "### Baseline - svm"
      ]
    },
    {
      "cell_type": "code",
      "execution_count": 3,
      "metadata": {
        "id": "aL5WczYWTEgy"
      },
      "outputs": [],
      "source": [
        "# HW part 1 - run svm as baseline\n",
        "\n",
        "def svm_by_type(kernel , X , y , X_test , y_test):\n",
        "  clf_SVC = SVC(kernel=kernel , decision_function_shape='ovr')\n",
        "  clf_SVC.fit(X.reshape([TRAIN_SIZE, 3 * 32 * 32]), y)\n",
        "  # TODO: should report accuracy (in the doc)\n",
        "  print(\"train acc: \", clf_SVC.score(X.reshape([TRAIN_SIZE, 3 * 32 * 32]), y))\n",
        "  print(\"test acc: \", clf_SVC.score(X_test.reshape([TEST_SIZE, 3 * 32 * 32]), y_test))\n",
        " \n",
        "# This is the main function for this part \n",
        "def svm(train_sampler, test_sampler):\n",
        "  # We load everything to 1 batch\n",
        "  train_dataloader = DataLoader(training_data, batch_size=TRAIN_SIZE , sampler = train_sampler , num_workers=2)\n",
        "  test_dataloader = DataLoader(test_data, batch_size=TEST_SIZE, sampler = test_sampler , num_workers=2)\n",
        "\n",
        "  X , y = next(iter(train_dataloader))\n",
        "  X_test , y_test = next(iter(test_dataloader))\n",
        "\n",
        "  # linear SVM:\n",
        "  svm_by_type('linear' , X , y , X_test , y_test)\n",
        "\n",
        "  # rbf kernel SVM\n",
        "  svm_by_type('rbf' , X , y , X_test , y_test)\n"
      ]
    },
    {
      "cell_type": "markdown",
      "metadata": {
        "id": "9h-xM6oJcFmR"
      },
      "source": [
        "# Question 2 - Feed Forward Neural Network"
      ]
    },
    {
      "cell_type": "code",
      "execution_count": 4,
      "metadata": {
        "id": "WUYwte2KUemZ"
      },
      "outputs": [],
      "source": [
        "class NeuralNetwork(nn.Module):\n",
        "    def __init__(self):\n",
        "        super().__init__()\n",
        "        self.flatten = nn.Flatten()\n",
        "        self.linear_relu_stack = nn.Sequential(\n",
        "            nn.Linear(3*32*32, 256),\n",
        "            nn.ReLU(),\n",
        "            nn.Linear(256, 10)\n",
        "        )\n",
        "\n",
        "    def forward(self, x):\n",
        "        x = self.flatten(x)\n",
        "        logits = self.linear_relu_stack(x)\n",
        "        return logits\n",
        "\n",
        "\n",
        "def init_weights_wrapper(deviation):\n",
        "  def init_weights(m):\n",
        "    if (isinstance(m, nn.Linear)) or (isinstance(m, nn.Conv2d)):\n",
        "      torch.nn.init.normal_(m.weight , std=deviation)\n",
        "      #torch.nn.init.normal_(m.bias , std=deviation)\n",
        "      m.bias.data.fill_(0)\n",
        "  return init_weights\n",
        "\n",
        "class GridSearch():\n",
        "  def __init__(self, file_path, use_history=True):\n",
        "    self.best_params = {}\n",
        "    self.best_acc = 0\n",
        "    self.file_path = file_path\n",
        "    self.use_history = use_history\n",
        "\n",
        "  def update_params(self, step_size, momentum, deviation):\n",
        "    self.best_params['step_size'] = step_size\n",
        "    self.best_params['momentum'] = momentum\n",
        "    self.best_params['deviation'] = deviation\n",
        "\n",
        "  def write_to_file(self, accuracy, loss, time, *args):\n",
        "    obj = {args: (accuracy, loss, time)}\n",
        "    with open(self.file_path, \"ab\") as f:\n",
        "      pickle.dump(obj, f)\n",
        "\n",
        "  def get_history(self):\n",
        "    history_res = {}\n",
        "    if self.use_history and (os.path.exists(self.file_path)):\n",
        "      with open(self.file_path, \"rb\") as f:\n",
        "        objs = []\n",
        "        while 1:\n",
        "            try:\n",
        "                history_res.update(pickle.load(f))\n",
        "            except EOFError:\n",
        "                break\n",
        "    return history_res\n",
        "\n",
        "  # Config is a dict of lists that tells the values of the parameters  to run\n",
        "  def run(self, train_dataloader, test_dataloader, config, num_of_epochs=DEFAULT_NUM_OF_EPOCHS, verbose=False):\n",
        "    import time\n",
        "    history_res = self.get_history()\n",
        "    options = itertools.product(config[\"step_size\"], config[\"momentum\"], config[\"deviation\"])\n",
        "    for step_size, momentum, deviation in options:\n",
        "      # Don't run if we already know the result\n",
        "      if self.use_history and ((step_size, momentum, deviation) in history_res):\n",
        "        accuracy = history_res[(step_size, momentum, deviation)][0]\n",
        "        if accuracy > self.best_acc:\n",
        "          self.update_params(step_size, momentum, deviation)\n",
        "          self.best_acc = accuracy\n",
        "        continue\n",
        "      print(\"Starting gs for ({},{},{})\".format(step_size, momentum, deviation))\n",
        "      start = time.time()\n",
        "      model = NeuralNetwork().to(device)\n",
        "      model.apply(init_weights_wrapper(deviation))\n",
        "\n",
        "      loss_fn = nn.CrossEntropyLoss()\n",
        "      optimizer = torch.optim.SGD(model.parameters(), lr=step_size , momentum=momentum)\n",
        "      # TODO: should we check train acc or test acc (now we're checking the train)!!!!\n",
        "      # TODO2 : if we ignore the test(like now) - better not to run it\n",
        "      train_accuracy, train_loss , __, ___ = train_and_test(train_dataloader, test_dataloader, model,\n",
        "                                                    loss_fn, optimizer,\n",
        "                                                    num_of_test_batches=0, num_of_epochs=num_of_epochs, verbose=verbose)\n",
        "      tot_time = time.time() - start\n",
        "      accuracy = train_accuracy[-1] # Take last accuracy\n",
        "      loss = train_loss[-1]\n",
        "      self.write_to_file(accuracy, loss, tot_time, step_size, momentum, deviation)\n",
        "      \n",
        "      if accuracy > self.best_acc:\n",
        "        self.update_params(step_size, momentum, deviation)\n",
        "        self.best_acc = accuracy\n",
        "    return self.best_params\n",
        "\n",
        "# Train the model for a single epoch\n",
        "# Returns accuracy and loss\n",
        "def epoch_train(dataloader, model, loss_fn, optimizer, num_of_batches=-1, verbose=False):\n",
        "    model.train()\n",
        "\n",
        "    # Calculate the size of data we run on\n",
        "    if num_of_batches > 0:\n",
        "      size = num_of_batches * BATCH_SIZE\n",
        "    else:\n",
        "      size = TRAIN_SIZE\n",
        "\n",
        "    # loss and accuracy of the entire epoch\n",
        "    epoch_loss, epoch_accuracy  = 0, 0\n",
        "    for batch, (X, y) in enumerate(dataloader):\n",
        "      # Dont run more than num_of_batches batches (-1 means to run all)\n",
        "      if batch == num_of_batches:\n",
        "        break\n",
        "      X, y = X.to(device), y.to(device)\n",
        "\n",
        "      # Compute prediction error\n",
        "      pred = model(X)\n",
        "      loss = loss_fn(pred, y)\n",
        "\n",
        "      # Backpropagation\n",
        "      optimizer.zero_grad()\n",
        "      loss.backward()\n",
        "      optimizer.step()\n",
        "\n",
        "      if (batch % 100 == 0) and verbose:\n",
        "          current = (batch + 1) * len(X)\n",
        "          print(f\"Train loss: {loss.item():>7f}  [{current:>5d}/{size:>5d}]\")\n",
        "      epoch_loss += loss.item()\n",
        "      epoch_accuracy += (pred.argmax(1) == y).type(torch.float).sum().item()\n",
        "\n",
        "    # Calculate the total loss and accuracy\n",
        "    if num_of_batches > 0:\n",
        "      loss = epoch_loss / num_of_batches\n",
        "    else:\n",
        "      loss = epoch_loss / len(dataloader)\n",
        "    accuracy = epoch_accuracy / size\n",
        "    return accuracy, loss\n",
        "\n",
        "def test(dataloader, model, loss_fn, num_of_batches=-1, verbose=False):\n",
        "    num_batches = len(dataloader)\n",
        "    model.eval()\n",
        "    test_loss, correct = 0, 0\n",
        "    with torch.no_grad():\n",
        "        for batch, (X, y) in enumerate(dataloader):\n",
        "          # Dont run more than num_of_batches batches (-1 means to run all)\n",
        "          if batch == num_of_batches:\n",
        "            break\n",
        "          X, y = X.to(device), y.to(device)\n",
        "          pred = model(X)\n",
        "          test_loss += loss_fn(pred, y).item()\n",
        "          correct += (pred.argmax(1) == y).type(torch.float).sum().item()\n",
        "    # Calculate the total loss and accuracy\n",
        "    if num_of_batches > 0:\n",
        "      size = num_of_batches * BATCH_SIZE\n",
        "      test_loss = test_loss / num_of_batches\n",
        "    else:\n",
        "      size = TEST_SIZE #len(dataloader.dataset)\n",
        "      test_loss = test_loss / len(dataloader)\n",
        "    accuracy = correct / size\n",
        "    if verbose:\n",
        "      print(f\"Test Error: \\n Accuracy: {(100*accuracy):>0.1f}%, Avg loss: {test_loss:>8f} \\n\")\n",
        "    return accuracy, test_loss\n",
        "\n",
        "# Run train and test for num_of_epochs\n",
        "# TODO: what should be default for num_of_test_batches?\n",
        "def train_and_test(train_dataloader, test_dataloader, model, loss_fn, optimizer,\n",
        "                   num_of_train_batches=-1, num_of_test_batches=-1, num_of_epochs=DEFAULT_NUM_OF_EPOCHS, verbose=False):\n",
        "    all_loss, all_accuracy, all_test_accuracy, all_test_loss = [], [], [], []\n",
        "    for i in range(num_of_epochs):\n",
        "      epoch_accuracy, epoch_loss = epoch_train(train_dataloader, model, loss_fn,\n",
        "                                             optimizer, num_of_batches=num_of_train_batches, verbose=verbose)\n",
        "      test_accuracy, test_loss = test(test_dataloader, model, loss_fn, num_of_batches=num_of_test_batches, verbose=verbose)\n",
        "      all_test_accuracy.append(test_accuracy)\n",
        "      all_test_loss.append(test_loss)\n",
        "      all_accuracy.append(epoch_accuracy)\n",
        "      all_loss.append(epoch_loss)\n",
        "    return all_accuracy, all_loss, all_test_accuracy, all_test_loss\n",
        "\n",
        "# Plot train and test accuracy on the same graph,\n",
        "# and train and test losses on the same graph.\n",
        "def plot_graphs(num_of_epochs, train_accuracy, train_loss, test_accuracy, test_loss, suptitle):\n",
        "  epochs = [(x + 1) for x in range(num_of_epochs)]\n",
        "  fig, axs = plt.subplots(2)\n",
        "  fig.suptitle(suptitle)\n",
        "  fig.tight_layout()#pad=3)\n",
        "  # Plot\n",
        "  #axs[0].set_title(\"Accuracy as func of epochs\")\n",
        "  axs[0].plot(epochs, train_accuracy)\n",
        "  axs[0].plot(epochs, test_accuracy)\n",
        "  axs[0].set(xlabel='epochs', ylabel='accuracy')\n",
        "  axs[0].grid()\n",
        "  axs[0].legend([\"train\", \"test\"], loc=\"best\")\n",
        "\n",
        "  #axs[1].set_title(\"Loss as func of epochs\")\n",
        "  axs[1].plot(epochs, train_loss)\n",
        "  axs[1].plot(epochs, test_loss)\n",
        "  axs[1].set(xlabel='epochs', ylabel='loss')\n",
        "  axs[1].grid()\n",
        "  axs[1].legend([\"train\", \"test\"], loc=\"best\")\n",
        "\n",
        "  plt.show()\n",
        "\n",
        "def pretty_print_results(train_accuracy, train_loss, test_accuracy, test_loss):\n",
        "  # Print the results at the end of optimization\n",
        "  print(f\"Train Error: \\n Accuracy: {(100*train_accuracy[-1]):>0.1f}%, Avg loss: {train_loss[-1]:>8f} \\n\")\n",
        "  print(f\"Test Error: \\n Accuracy: {(100*test_accuracy[-1]):>0.1f}%, Avg loss: {test_loss[-1]:>8f} \\n\")\n"
      ]
    },
    {
      "cell_type": "markdown",
      "metadata": {
        "id": "YmDTxh0JcQ1_"
      },
      "source": [
        "### Part 2.1.  Baseline"
      ]
    },
    {
      "cell_type": "code",
      "execution_count": 5,
      "metadata": {
        "id": "sgFMEckAcRD9"
      },
      "outputs": [],
      "source": [
        "# Part 2.1\n",
        "# Run the baseline of this part (train and test) and plot the results\n",
        "# config is a dict of the parameters to run the network with\n",
        "def run_baseline(config, train_dataloader, test_dataloader, num_of_epochs=DEFAULT_NUM_OF_EPOCHS, verbose=False):\n",
        "  # Train the network with the best parameters and then test it\n",
        "  model = NeuralNetwork().to(device)\n",
        "  model.apply(init_weights_wrapper(config[\"deviation\"]))\n",
        "  # TODO: can we delete this print?\n",
        "  for name, param in model.named_parameters():\n",
        "          print(name , param)\n",
        "\n",
        "  loss_fn = nn.CrossEntropyLoss()\n",
        "  optimizer = torch.optim.SGD(model.parameters(), lr=config[\"step_size\"] , momentum=config[\"momentum\"])\n",
        "  train_accuracy, train_loss, test_accuracy, test_loss =\\\n",
        "          train_and_test(train_dataloader, test_dataloader, model, loss_fn, optimizer, num_of_epochs=num_of_epochs, verbose=verbose)\n",
        "  \n",
        "  plot_graphs(num_of_epochs, train_accuracy, train_loss, test_accuracy, test_loss, \"2.1 baseline\")\n",
        "\n",
        "  print(\"Baseline results: \")\n",
        "  pretty_print_results(train_accuracy, train_loss, test_accuracy, test_loss)"
      ]
    },
    {
      "cell_type": "markdown",
      "metadata": {
        "id": "C_Kl3ZgFcvSH"
      },
      "source": [
        "### Part 2.2. Optimization"
      ]
    },
    {
      "cell_type": "code",
      "execution_count": 6,
      "metadata": {
        "id": "Ll9IvLqjyCoU"
      },
      "outputs": [],
      "source": [
        "# Part 2.2\n",
        "def change_optimization(config, train_dataloader, test_dataloader, num_of_epochs=DEFAULT_NUM_OF_EPOCHS, verbose=False):\n",
        "  model = NeuralNetwork().to(device)\n",
        "  model.apply(init_weights_wrapper(config[\"deviation\"]))\n",
        "\n",
        "  loss_fn = nn.CrossEntropyLoss()\n",
        "  # TODO: should we change the momentum (betas) in here?\n",
        "  optimizer = torch.optim.Adam(model.parameters(), lr=config[\"step_size\"])\n",
        "  train_accuracy, train_loss, test_accuracy, test_loss =\\\n",
        "          train_and_test(train_dataloader, test_dataloader, model, loss_fn, optimizer, num_of_epochs=num_of_epochs, verbose=verbose)\n",
        "  \n",
        "  plot_graphs(num_of_epochs, train_accuracy, train_loss, test_accuracy, test_loss, \"2.2 optimization\")\n",
        "  \n",
        "  print(\"Adam optimization results: \")\n",
        "  pretty_print_results(train_accuracy, train_loss, test_accuracy, test_loss)"
      ]
    },
    {
      "cell_type": "markdown",
      "metadata": {
        "id": "6wUKu2G3c0Z1"
      },
      "source": [
        "### Part 2.3. Initialization"
      ]
    },
    {
      "cell_type": "code",
      "execution_count": 7,
      "metadata": {
        "id": "2iXoNz8B7eVZ"
      },
      "outputs": [],
      "source": [
        "# Part 2.3\n",
        "\n",
        "def init_weights_with_xavier(m):\n",
        "    if isinstance(m, nn.Linear):\n",
        "        torch.nn.init.xavier_uniform_(m.weight)\n",
        "        #torch.nn.init.xavier_uniform_(m.bias)\n",
        "        m.bias.data.fill_(0)\n",
        "\n",
        "def change_initialization(config, train_dataloader, test_dataloader, num_of_epochs=DEFAULT_NUM_OF_EPOCHS, verbose=False):\n",
        "  model = NeuralNetwork().to(device)\n",
        "  model.apply(init_weights_with_xavier)\n",
        "\n",
        "  loss_fn = nn.CrossEntropyLoss()\n",
        "  optimizer = torch.optim.SGD(model.parameters(), lr=config[\"step_size\"] , momentum=config[\"momentum\"])\n",
        "  train_accuracy, train_loss, test_accuracy, test_loss =\\\n",
        "          train_and_test(train_dataloader, test_dataloader, model, loss_fn, optimizer, num_of_epochs=num_of_epochs, verbose=verbose)\n",
        "  \n",
        "  plot_graphs(num_of_epochs, train_accuracy, train_loss, test_accuracy, test_loss, \"2.3 initialization\")\n",
        "  \n",
        "  print(\"Xavier initialization results: \")\n",
        "  pretty_print_results(train_accuracy, train_loss, test_accuracy, test_loss)"
      ]
    },
    {
      "cell_type": "markdown",
      "metadata": {
        "id": "a2rNE09fc3dX"
      },
      "source": [
        "### Part 2.4. Regularization\n",
        "Add dropout and weight decay to the network"
      ]
    },
    {
      "cell_type": "code",
      "execution_count": 8,
      "metadata": {
        "id": "_iffBxcw-h4s"
      },
      "outputs": [],
      "source": [
        "# Part 2.4\n",
        "\n",
        "class DropoutNeuralNetwork(nn.Module):\n",
        "    def __init__(self, dropout):\n",
        "        super().__init__()\n",
        "        self.flatten = nn.Flatten()\n",
        "        self.linear_relu_stack = nn.Sequential(\n",
        "            nn.Linear(3*32*32, 256),\n",
        "            nn.Dropout(dropout),\n",
        "            nn.ReLU(),\n",
        "            nn.Linear(256, 10)\n",
        "            #nn.Dropout(dropout)\n",
        "\n",
        "        )\n",
        "\n",
        "    def forward(self, x):\n",
        "        x = self.flatten(x)\n",
        "        logits = self.linear_relu_stack(x)\n",
        "        return logits\n",
        "\n",
        "\n",
        "def regularization(config, train_dataloader, test_dataloader, dropout=0.05, weight_decay=0.1, num_of_epochs=DEFAULT_NUM_OF_EPOCHS, verbose=False):\n",
        "  model = DropoutNeuralNetwork(dropout).to(device)\n",
        "  model.apply(init_weights_wrapper(config[\"deviation\"]))\n",
        "\n",
        "  loss_fn = nn.CrossEntropyLoss()\n",
        "  optimizer = torch.optim.SGD(model.parameters(), lr=config[\"step_size\"] , momentum=config[\"momentum\"] , weight_decay=weight_decay)\n",
        "  train_accuracy, train_loss, test_accuracy, test_loss =\\\n",
        "          train_and_test(train_dataloader, test_dataloader, model, loss_fn, optimizer, num_of_epochs=num_of_epochs, verbose=verbose)\n",
        "  \n",
        "  plot_graphs(num_of_epochs, train_accuracy, train_loss, test_accuracy, test_loss, \"2.4 regularization\")\n",
        "\n",
        "  print(\"Regularization results: \")\n",
        "  pretty_print_results(train_accuracy, train_loss, test_accuracy, test_loss)\n",
        "  print(\"Weight decay is: \", weight_decay, \" dropout is: \", dropout)"
      ]
    },
    {
      "cell_type": "markdown",
      "metadata": {
        "id": "mwK0NFD6dQ2L"
      },
      "source": [
        "### Part 2.5. Preprocessing\n",
        "Add PCA whitening"
      ]
    },
    {
      "cell_type": "code",
      "execution_count": 9,
      "metadata": {
        "id": "O2rbE4RyR3Af"
      },
      "outputs": [],
      "source": [
        "# Part 2.5\n",
        "\n",
        "from sklearn.decomposition import PCA\n",
        "#torch.cat([x[0] for x in training_data])\n",
        "\n",
        "class NeuralNetworkWithPreprocess(nn.Module):\n",
        "    def __init__(self, pca):\n",
        "        super().__init__()\n",
        "        self.pca = pca\n",
        "        self.flatten = nn.Flatten()\n",
        "        self.linear_relu_stack = nn.Sequential(\n",
        "            nn.Linear(BATCH_SIZE, 256),\n",
        "            #nn.Linear(1, 256),\n",
        "            nn.ReLU(),\n",
        "            nn.Linear(256, 10)\n",
        "        )\n",
        "\n",
        "    def whitening(self, x):\n",
        "        x_ = self.flatten(x)\n",
        "        x_ = self.pca.transform(torch.Tensor.cpu(x_))\n",
        "        x = (torch.tensor(x_)).to(device).to(torch.float32)\n",
        "        return x\n",
        "\n",
        "    def forward(self, x):\n",
        "        # Apply preprocessing        \n",
        "        x = self.whitening(x)\n",
        "        # Apply the network\n",
        "        logits = self.linear_relu_stack(x)\n",
        "        return logits\n",
        "\n",
        "\n",
        "def get_pca(train_sampler):\n",
        "  train_dataloader = DataLoader(training_data, batch_size=TRAIN_SIZE, sampler=train_sampler)\n",
        "  pca = PCA(whiten=True, n_components=64) # TODO: not sure about n_comp\n",
        "  x, y = next(iter(train_dataloader))\n",
        "  x = x.reshape((TRAIN_SIZE, -1))\n",
        "  pca.fit(x)\n",
        "  return pca\n",
        "\n",
        "def add_preprocessing(config, train_sampler, train_dataloader, test_dataloader, num_of_epochs=DEFAULT_NUM_OF_EPOCHS, verbose=False):\n",
        "  pca = get_pca(train_sampler)\n",
        "  model = NeuralNetworkWithPreprocess(pca).to(device)\n",
        "  model.apply(init_weights_wrapper(config[\"deviation\"]))\n",
        "  loss_fn = nn.CrossEntropyLoss()\n",
        "  optimizer = torch.optim.SGD(model.parameters(), lr=config[\"step_size\"] , momentum=config[\"momentum\"])\n",
        "  train_accuracy, train_loss, test_accuracy, test_loss =\\\n",
        "          train_and_test(train_dataloader, test_dataloader, model, loss_fn, optimizer, num_of_epochs=num_of_epochs, verbose=verbose)\n",
        "  plot_graphs(num_of_epochs, train_accuracy, train_loss, test_accuracy, test_loss, \"2.5 preprocessing\")\n",
        "\n",
        "  print(\"Preprocessing results: \")\n",
        "  pretty_print_results(train_accuracy, train_loss, test_accuracy, test_loss)\n"
      ]
    },
    {
      "cell_type": "markdown",
      "metadata": {
        "id": "CBqjllAudYT-"
      },
      "source": [
        "### Part 2.6. Network width"
      ]
    },
    {
      "cell_type": "code",
      "execution_count": 10,
      "metadata": {
        "id": "jLO2rhgeow7s"
      },
      "outputs": [],
      "source": [
        "# Part 2.6\n",
        "\n",
        "class NeuralNetworkChangingWidth(nn.Module):\n",
        "    def __init__(self, width):\n",
        "        super().__init__()\n",
        "        self.flatten = nn.Flatten()\n",
        "        self.linear_relu_stack = nn.Sequential(\n",
        "            nn.Linear(3*32*32, width),\n",
        "            nn.ReLU(),\n",
        "            nn.Linear(width, 10)\n",
        "        )\n",
        "\n",
        "    def forward(self, x):\n",
        "        x = self.flatten(x)\n",
        "        logits = self.linear_relu_stack(x)\n",
        "        return logits\n",
        "\n",
        "# Create a fig for plotting train and test accuracy and loss\n",
        "def prepare_fig(suptitle):\n",
        "  fig, axs = plt.subplots(2)\n",
        "  fig.suptitle(suptitle)\n",
        "  fig.tight_layout()#pad=3)\n",
        "  axs[0].set(xlabel='epochs', ylabel='accuracy')\n",
        "  axs[0].grid()\n",
        "  #axs[0].legend(legend, loc=\"best\")\n",
        "  axs[1].set(xlabel='epochs', ylabel='loss')\n",
        "  axs[1].grid()\n",
        "  #axs[1].legend(legend, loc=\"best\")\n",
        "  return fig, axs  \n",
        "\n",
        "def plot(axs, num_of_epochs, train_accuracy,\n",
        "         train_loss, test_accuracy, test_loss):\n",
        "  # Plot\n",
        "  epochs = [(x + 1) for x in range(num_of_epochs)]\n",
        "  axs[0].plot(epochs, train_accuracy)\n",
        "  axs[0].plot(epochs, test_accuracy)\n",
        "  axs[1].plot(epochs, train_loss)\n",
        "  axs[1].plot(epochs, test_loss)\n",
        "  \n",
        "\n",
        "def change_width(config, train_dataloader, test_dataloader, num_of_epochs=DEFAULT_NUM_OF_EPOCHS, verbose=False):\n",
        "  num_of_epochs = 10 # TODO: delete this  line\n",
        "  fig, axs = prepare_fig(\"2.6 width\")\n",
        "  # TODO: If we can move  legend a little bit to the side\n",
        "  legend = []\n",
        "  for i in [6, 10, 12]:\n",
        "    width = 2 ** i\n",
        "    model = NeuralNetworkChangingWidth(width).to(device)\n",
        "    model.apply(init_weights_wrapper(config[\"deviation\"]))\n",
        "\n",
        "    loss_fn = nn.CrossEntropyLoss()\n",
        "    optimizer = torch.optim.SGD(model.parameters(), lr=config[\"step_size\"] , momentum=config[\"momentum\"])\n",
        "    train_accuracy, train_loss, test_accuracy, test_loss =\\\n",
        "            train_and_test(train_dataloader, test_dataloader, model, loss_fn, optimizer, num_of_epochs=num_of_epochs, verbose=verbose)\n",
        "  \n",
        "    plot(axs, num_of_epochs, train_accuracy, train_loss, test_accuracy, test_loss)\n",
        "    legend.append(\"train width {}\".format(width))\n",
        "    legend.append(\"test width {}\".format(width))\n",
        "\n",
        "    print(\"Changing width results, with width\", width, \":\")\n",
        "    pretty_print_results(train_accuracy, train_loss, test_accuracy, test_loss)\n",
        "  fig.legend(legend, loc=\"right\")\n",
        "  plt.show()\n"
      ]
    },
    {
      "cell_type": "markdown",
      "metadata": {
        "id": "2HKuftmldb6t"
      },
      "source": [
        "### Part 2.7. Network Depth"
      ]
    },
    {
      "cell_type": "markdown",
      "metadata": {
        "id": "tUaBud2LvE36"
      },
      "source": [
        "# Question 3 - Convolutional Neural Network"
      ]
    },
    {
      "cell_type": "code",
      "execution_count": 11,
      "metadata": {
        "id": "IDL8RtZEvYkE"
      },
      "outputs": [],
      "source": [
        "CNNconfig = {\n",
        "    \"step_size\": [5e-4, 7e-4,  1e-3, 1e-2],\n",
        "    \"momentum\": [0.45, 0.5, 0.55, 0.7, 0.8],\n",
        "    \"deviation\": [1, 1.5, 2, 2.25, 2.5,  3]\n",
        "}\n",
        "\n",
        "class CNN(nn.Module):\n",
        "    def __init__(self):\n",
        "        super().__init__()\n",
        "        #self.flatten = nn.Flatten()\n",
        "        self.linear_relu_stack = nn.Sequential(\n",
        "            nn.Conv2d(in_channels=3, out_channels=64, kernel_size=3, stride=1),\n",
        "            nn.ReLU(),\n",
        "            nn.MaxPool2d(kernel_size=2, stride=2),\n",
        "            nn.Conv2d(in_channels=64, out_channels=16, kernel_size=3, stride=1),\n",
        "            nn.ReLU(),\n",
        "            nn.MaxPool2d(kernel_size=2, stride=2),\n",
        "            nn.Flatten(),\n",
        "            nn.Linear(16*6*6, 784), # TODO: not sure if thats what they wanted\n",
        "            nn.ReLU(),\n",
        "            nn.Linear(784, 10)\n",
        "        )\n",
        "\n",
        "    def forward(self, x):\n",
        "        #x = self.flatten(x)\n",
        "        logits = self.linear_relu_stack(x)\n",
        "        return logits\n",
        "\n"
      ]
    },
    {
      "cell_type": "markdown",
      "metadata": {
        "id": "zWCQtbBcvQI-"
      },
      "source": [
        "### Part 3.1. Baseline"
      ]
    },
    {
      "cell_type": "code",
      "execution_count": 12,
      "metadata": {
        "id": "sX3m-SlI0cXw"
      },
      "outputs": [],
      "source": [
        "# Part 3.1\n",
        "\n",
        "def cnn_run_baseline(config, train_dataloader, test_dataloader, num_of_epochs=DEFAULT_NUM_OF_EPOCHS, verbose=False):\n",
        "  model = CNN().to(device)\n",
        "  model.apply(init_weights_wrapper(config[\"deviation\"]))\n",
        "  # TODO: can we delete this print?\n",
        "  #for name, param in model.named_parameters():\n",
        "  #        print(name , param)\n",
        "\n",
        "  loss_fn = nn.CrossEntropyLoss()\n",
        "  optimizer = torch.optim.SGD(model.parameters(), lr=config[\"step_size\"] , momentum=config[\"momentum\"])\n",
        "  train_accuracy, train_loss, test_accuracy, test_loss =\\\n",
        "          train_and_test(train_dataloader, test_dataloader, model, loss_fn, optimizer, num_of_epochs=num_of_epochs, verbose=verbose)\n",
        "  \n",
        "  plot_graphs(num_of_epochs, train_accuracy, train_loss, test_accuracy, test_loss, \"3.1 baseline\")\n",
        "\n",
        "  print(\"Baseline results: \")\n",
        "  pretty_print_results(train_accuracy, train_loss, test_accuracy, test_loss)"
      ]
    },
    {
      "cell_type": "markdown",
      "metadata": {
        "id": "dWGZqYkxdfq5"
      },
      "source": [
        "# Main\n",
        "Run all the code of the exercise"
      ]
    },
    {
      "cell_type": "code",
      "execution_count": 19,
      "metadata": {
        "id": "-f0Q1avTBKrI"
      },
      "outputs": [],
      "source": [
        "# Call all the functions of question 2\n",
        "def Q2(config, train_dataloader, test_dataloader):\n",
        "  # Choose which parts to run\n",
        "  should_run_gs = True\n",
        "  should_run_baseline = True\n",
        "  should_run_change_optimization = False\n",
        "  should_run_change_initialization = False\n",
        "  should_run_regularization = False\n",
        "  should_run_preprocessing = False\n",
        "  should_run_width = False\n",
        "  \n",
        "  # Choose best parameters\n",
        "  #TODO: run grid search with zero biases\n",
        "  best_config = {}\n",
        "  if should_run_gs:\n",
        "    gs = GridSearch(\"grid_search_q2\")\n",
        "    best_config = gs.run(train_dataloader, test_dataloader, config, verbose=False)\n",
        "    #best_config[\"step_size\"] = gs.best_params[\"step_size\"]\n",
        "    #best_config[\"momentum\"] = gs.best_params[\"momentum\"]\n",
        "    #best_config[\"deviation\"] =  gs.best_params[\"deviation\"]\n",
        "    files.download('grid_search_q2') # TODO: shuold delete?\n",
        "    print(\"Best config is: \")\n",
        "    print(best_config)\n",
        "  else:\n",
        "    best_config[\"step_size\"] = 0.001\n",
        "    best_config[\"momentum\"] = 0.5\n",
        "    best_config[\"deviation\"] =  2.5\n",
        "  \n",
        "\n",
        "  if should_run_baseline:\n",
        "    print(\"Run baseline\")\n",
        "    run_baseline(best_config, train_dataloader, test_dataloader, verbose=False)\n",
        "    print()\n",
        "  if should_run_change_optimization:\n",
        "    print(\"Run change optimization\")\n",
        "    change_optimization(best_config, train_dataloader, test_dataloader, verbose=False)\n",
        "    print()\n",
        "  if should_run_change_initialization:\n",
        "    print(\"Run change initialization\")\n",
        "    change_initialization(best_config, train_dataloader, test_dataloader, verbose=False)\n",
        "    print()\n",
        "  if should_run_regularization:\n",
        "    print(\"Run regularization\")\n",
        "    regularization(best_config, train_dataloader, test_dataloader, num_of_epochs=400, verbose=False)\n",
        "    print()\n",
        "  if should_run_preprocessing:\n",
        "    print(\"run preprocessing\")\n",
        "    add_preprocessing(best_config, train_sampler, train_dataloader, test_dataloader, verbose=False)\n",
        "    print()\n",
        "  if should_run_width:\n",
        "    print(\"Run network width\")\n",
        "    change_width(best_config, train_dataloader, test_dataloader, num_of_epochs=DEFAULT_NUM_OF_EPOCHS, verbose=False)\n",
        "    print()\n"
      ]
    },
    {
      "cell_type": "code",
      "execution_count": 20,
      "metadata": {
        "id": "0NUCcVyHCAzl"
      },
      "outputs": [],
      "source": [
        "# Call all the functions of question 2\n",
        "def Q3(config, train_dataloader, test_dataloader):\n",
        "  should_run_gs = True\n",
        "  should_run_baseline = True\n",
        "  best_config = {}\n",
        "  if should_run_gs:\n",
        "    gs = GridSearch(\"grid_search_q3\")\n",
        "    best_config = gs.run(train_dataloader, test_dataloader, config, verbose=False)\n",
        "    #best_config[\"step_size\"] = gs.best_params[\"step_size\"]\n",
        "    #best_config[\"momentum\"] = gs.best_params[\"momentum\"]\n",
        "    #best_config[\"deviation\"] =  gs.best_params[\"deviation\"]\n",
        "    files.download('grid_search_q3')\n",
        "    print(\"Best config is: \")\n",
        "    print(best_config)\n",
        "  else:\n",
        "    # The best config is the result of previous run of grid search\n",
        "    best_config[\"step_size\"] = 0.01\n",
        "    best_config[\"momentum\"] = 0.8\n",
        "    best_config[\"deviation\"] =  0.1\n",
        "  if should_run_baseline:\n",
        "    print(\"Run baseline\")\n",
        "    cnn_run_baseline(best_config, train_dataloader, test_dataloader, verbose=False)\n",
        "    print()\n"
      ]
    },
    {
      "cell_type": "code",
      "execution_count": 21,
      "metadata": {
        "colab": {
          "base_uri": "https://localhost:8080/",
          "height": 1000
        },
        "id": "TmomOSl3Tx28",
        "outputId": "138674a8-05b4-4a2d-cb8b-007f1ae2631d"
      },
      "outputs": [
        {
          "output_type": "stream",
          "name": "stdout",
          "text": [
            "Starting gs for (0.0005,0.2,2.5)\n",
            "Starting gs for (0.0005,0.5,2.5)\n",
            "Starting gs for (0.0005,0.8,2.5)\n",
            "Starting gs for (0.0005,0.9,2.5)\n",
            "Starting gs for (0.001,0.2,2.5)\n",
            "Starting gs for (0.001,0.5,2.5)\n",
            "Starting gs for (0.001,0.8,2.5)\n",
            "Starting gs for (0.001,0.9,2.5)\n",
            "Starting gs for (0.01,0.2,2.5)\n",
            "Starting gs for (0.01,0.5,2.5)\n",
            "Starting gs for (0.01,0.8,2.5)\n",
            "Starting gs for (0.01,0.9,2.5)\n",
            "Starting gs for (0.1,0.2,2.5)\n",
            "Starting gs for (0.1,0.5,2.5)\n",
            "Starting gs for (0.1,0.8,2.5)\n",
            "Starting gs for (0.1,0.9,2.5)\n"
          ]
        },
        {
          "output_type": "display_data",
          "data": {
            "text/plain": [
              "<IPython.core.display.Javascript object>"
            ],
            "application/javascript": [
              "\n",
              "    async function download(id, filename, size) {\n",
              "      if (!google.colab.kernel.accessAllowed) {\n",
              "        return;\n",
              "      }\n",
              "      const div = document.createElement('div');\n",
              "      const label = document.createElement('label');\n",
              "      label.textContent = `Downloading \"${filename}\": `;\n",
              "      div.appendChild(label);\n",
              "      const progress = document.createElement('progress');\n",
              "      progress.max = size;\n",
              "      div.appendChild(progress);\n",
              "      document.body.appendChild(div);\n",
              "\n",
              "      const buffers = [];\n",
              "      let downloaded = 0;\n",
              "\n",
              "      const channel = await google.colab.kernel.comms.open(id);\n",
              "      // Send a message to notify the kernel that we're ready.\n",
              "      channel.send({})\n",
              "\n",
              "      for await (const message of channel.messages) {\n",
              "        // Send a message to notify the kernel that we're ready.\n",
              "        channel.send({})\n",
              "        if (message.buffers) {\n",
              "          for (const buffer of message.buffers) {\n",
              "            buffers.push(buffer);\n",
              "            downloaded += buffer.byteLength;\n",
              "            progress.value = downloaded;\n",
              "          }\n",
              "        }\n",
              "      }\n",
              "      const blob = new Blob(buffers, {type: 'application/binary'});\n",
              "      const a = document.createElement('a');\n",
              "      a.href = window.URL.createObjectURL(blob);\n",
              "      a.download = filename;\n",
              "      div.appendChild(a);\n",
              "      a.click();\n",
              "      div.remove();\n",
              "    }\n",
              "  "
            ]
          },
          "metadata": {}
        },
        {
          "output_type": "display_data",
          "data": {
            "text/plain": [
              "<IPython.core.display.Javascript object>"
            ],
            "application/javascript": [
              "download(\"download_79fe8b30-a395-4419-9fbc-389bb6062e26\", \"grid_search_q2\", 5616)"
            ]
          },
          "metadata": {}
        },
        {
          "output_type": "stream",
          "name": "stdout",
          "text": [
            "Best config is: \n",
            "{'step_size': 0.01, 'momentum': 0.8, 'deviation': 0.01}\n",
            "Run baseline\n",
            "linear_relu_stack.0.weight Parameter containing:\n",
            "tensor([[ 0.0042,  0.0149, -0.0127,  ..., -0.0060,  0.0035,  0.0189],\n",
            "        [ 0.0010,  0.0072, -0.0097,  ...,  0.0104,  0.0088, -0.0170],\n",
            "        [-0.0170,  0.0025, -0.0013,  ...,  0.0014,  0.0183, -0.0008],\n",
            "        ...,\n",
            "        [ 0.0087,  0.0030, -0.0127,  ..., -0.0064, -0.0196,  0.0006],\n",
            "        [-0.0035, -0.0061,  0.0165,  ..., -0.0056,  0.0043, -0.0249],\n",
            "        [-0.0050, -0.0163, -0.0062,  ..., -0.0019, -0.0197,  0.0026]],\n",
            "       requires_grad=True)\n",
            "linear_relu_stack.0.bias Parameter containing:\n",
            "tensor([0., 0., 0., 0., 0., 0., 0., 0., 0., 0., 0., 0., 0., 0., 0., 0., 0., 0., 0., 0., 0., 0., 0., 0.,\n",
            "        0., 0., 0., 0., 0., 0., 0., 0., 0., 0., 0., 0., 0., 0., 0., 0., 0., 0., 0., 0., 0., 0., 0., 0.,\n",
            "        0., 0., 0., 0., 0., 0., 0., 0., 0., 0., 0., 0., 0., 0., 0., 0., 0., 0., 0., 0., 0., 0., 0., 0.,\n",
            "        0., 0., 0., 0., 0., 0., 0., 0., 0., 0., 0., 0., 0., 0., 0., 0., 0., 0., 0., 0., 0., 0., 0., 0.,\n",
            "        0., 0., 0., 0., 0., 0., 0., 0., 0., 0., 0., 0., 0., 0., 0., 0., 0., 0., 0., 0., 0., 0., 0., 0.,\n",
            "        0., 0., 0., 0., 0., 0., 0., 0., 0., 0., 0., 0., 0., 0., 0., 0., 0., 0., 0., 0., 0., 0., 0., 0.,\n",
            "        0., 0., 0., 0., 0., 0., 0., 0., 0., 0., 0., 0., 0., 0., 0., 0., 0., 0., 0., 0., 0., 0., 0., 0.,\n",
            "        0., 0., 0., 0., 0., 0., 0., 0., 0., 0., 0., 0., 0., 0., 0., 0., 0., 0., 0., 0., 0., 0., 0., 0.,\n",
            "        0., 0., 0., 0., 0., 0., 0., 0., 0., 0., 0., 0., 0., 0., 0., 0., 0., 0., 0., 0., 0., 0., 0., 0.,\n",
            "        0., 0., 0., 0., 0., 0., 0., 0., 0., 0., 0., 0., 0., 0., 0., 0., 0., 0., 0., 0., 0., 0., 0., 0.,\n",
            "        0., 0., 0., 0., 0., 0., 0., 0., 0., 0., 0., 0., 0., 0., 0., 0.],\n",
            "       requires_grad=True)\n",
            "linear_relu_stack.2.weight Parameter containing:\n",
            "tensor([[-0.0027,  0.0090,  0.0080,  ...,  0.0161, -0.0054, -0.0148],\n",
            "        [-0.0108,  0.0064,  0.0114,  ...,  0.0058,  0.0149,  0.0056],\n",
            "        [ 0.0048, -0.0010,  0.0156,  ..., -0.0049,  0.0107,  0.0065],\n",
            "        ...,\n",
            "        [ 0.0085,  0.0053,  0.0101,  ...,  0.0055,  0.0099, -0.0048],\n",
            "        [ 0.0019, -0.0106, -0.0046,  ...,  0.0138, -0.0045, -0.0190],\n",
            "        [-0.0112,  0.0125,  0.0096,  ..., -0.0095, -0.0029, -0.0098]],\n",
            "       requires_grad=True)\n",
            "linear_relu_stack.2.bias Parameter containing:\n",
            "tensor([0., 0., 0., 0., 0., 0., 0., 0., 0., 0.], requires_grad=True)\n"
          ]
        },
        {
          "output_type": "display_data",
          "data": {
            "text/plain": [
              "<Figure size 640x480 with 2 Axes>"
            ],
            "image/png": "[encoded data removed]"
          },
          "metadata": {}
        },
        {
          "output_type": "stream",
          "name": "stdout",
          "text": [
            "Baseline results: \n",
            "Train Error: \n",
            " Accuracy: 47.6%, Avg loss: 1.475987 \n",
            "\n",
            "Test Error: \n",
            " Accuracy: 46.3%, Avg loss: 1.545596 \n",
            "\n",
            "\n",
            "Starting gs for (0.0005,0.2,2.5)\n",
            "Starting gs for (0.0005,0.5,2.5)\n",
            "Starting gs for (0.0005,0.8,2.5)\n",
            "Starting gs for (0.0005,0.9,2.5)\n",
            "Starting gs for (0.001,0.2,2.5)\n",
            "Starting gs for (0.001,0.5,2.5)\n",
            "Starting gs for (0.001,0.8,2.5)\n",
            "Starting gs for (0.001,0.9,2.5)\n",
            "Starting gs for (0.01,0.2,2.5)\n",
            "Starting gs for (0.01,0.5,2.5)\n",
            "Starting gs for (0.01,0.8,2.5)\n",
            "Starting gs for (0.01,0.9,2.5)\n",
            "Starting gs for (0.1,0.2,2.5)\n",
            "Starting gs for (0.1,0.5,2.5)\n",
            "Starting gs for (0.1,0.8,2.5)\n",
            "Starting gs for (0.1,0.9,2.5)\n"
          ]
        },
        {
          "output_type": "display_data",
          "data": {
            "text/plain": [
              "<IPython.core.display.Javascript object>"
            ],
            "application/javascript": [
              "\n",
              "    async function download(id, filename, size) {\n",
              "      if (!google.colab.kernel.accessAllowed) {\n",
              "        return;\n",
              "      }\n",
              "      const div = document.createElement('div');\n",
              "      const label = document.createElement('label');\n",
              "      label.textContent = `Downloading \"${filename}\": `;\n",
              "      div.appendChild(label);\n",
              "      const progress = document.createElement('progress');\n",
              "      progress.max = size;\n",
              "      div.appendChild(progress);\n",
              "      document.body.appendChild(div);\n",
              "\n",
              "      const buffers = [];\n",
              "      let downloaded = 0;\n",
              "\n",
              "      const channel = await google.colab.kernel.comms.open(id);\n",
              "      // Send a message to notify the kernel that we're ready.\n",
              "      channel.send({})\n",
              "\n",
              "      for await (const message of channel.messages) {\n",
              "        // Send a message to notify the kernel that we're ready.\n",
              "        channel.send({})\n",
              "        if (message.buffers) {\n",
              "          for (const buffer of message.buffers) {\n",
              "            buffers.push(buffer);\n",
              "            downloaded += buffer.byteLength;\n",
              "            progress.value = downloaded;\n",
              "          }\n",
              "        }\n",
              "      }\n",
              "      const blob = new Blob(buffers, {type: 'application/binary'});\n",
              "      const a = document.createElement('a');\n",
              "      a.href = window.URL.createObjectURL(blob);\n",
              "      a.download = filename;\n",
              "      div.appendChild(a);\n",
              "      a.click();\n",
              "      div.remove();\n",
              "    }\n",
              "  "
            ]
          },
          "metadata": {}
        },
        {
          "output_type": "display_data",
          "data": {
            "text/plain": [
              "<IPython.core.display.Javascript object>"
            ],
            "application/javascript": [
              "download(\"download_80774ed8-c3e7-43ea-8b3b-680c0ad6b2d8\", \"grid_search_q3\", 5616)"
            ]
          },
          "metadata": {}
        },
        {
          "output_type": "stream",
          "name": "stdout",
          "text": [
            "Best config is: \n",
            "{'step_size': 0.01, 'momentum': 0.8, 'deviation': 0.1}\n",
            "Run baseline\n"
          ]
        },
        {
          "output_type": "display_data",
          "data": {
            "text/plain": [
              "<Figure size 640x480 with 2 Axes>"
            ],
            "image/png": "[encoded data removed]"
          },
          "metadata": {}
        },
        {
          "output_type": "stream",
          "name": "stdout",
          "text": [
            "Baseline results: \n",
            "Train Error: \n",
            " Accuracy: 67.4%, Avg loss: 0.942488 \n",
            "\n",
            "Test Error: \n",
            " Accuracy: 64.7%, Avg loss: 1.034254 \n",
            "\n",
            "\n",
            "end\n"
          ]
        }
      ],
      "source": [
        "\n",
        "should_run_svm = False\n",
        "\n",
        "if __name__ == \"__main__\":\n",
        "  # Question 1\n",
        "  train_sampler = torch.utils.data.RandomSampler(training_data, replacement=True, num_samples=TRAIN_SIZE, generator=None)\n",
        "  test_sampler = torch.utils.data.RandomSampler(test_data, replacement=True, num_samples=TEST_SIZE, generator=None)\n",
        "\n",
        "  if should_run_svm:\n",
        "    svm(train_sampler, test_sampler)\n",
        "\n",
        "  # Loaders for NN\n",
        "  num_workers = 1\n",
        "  train_dataloader = DataLoader(training_data, batch_size=BATCH_SIZE, sampler=train_sampler , num_workers=num_workers)\n",
        "  test_dataloader = DataLoader(test_data, batch_size=BATCH_SIZE, sampler=test_sampler , num_workers=num_workers)\n",
        "\n",
        "  # TODO: should choose parameters here\n",
        "  config = {\n",
        "    \"step_size\": [5e-4, 1e-3, 1e-2, 1e-1],\n",
        "    \"momentum\": [0.2, 0.5, 0.8, 0.9],\n",
        "    \"deviation\": [1e-2,1e-1, 1, 2, 2.5]\n",
        "  }\n",
        "\n",
        "  Q2(config, train_dataloader, test_dataloader)\n",
        "  Q3(config, train_dataloader, test_dataloader)\n",
        "\n",
        "  print(\"end\")"
      ]
    },
    {
      "cell_type": "code",
      "execution_count": 17,
      "metadata": {
        "id": "bEmXeHHFjhdl",
        "colab": {
          "base_uri": "https://localhost:8080/"
        },
        "outputId": "acee84cd-037f-4fee-abc4-68a354e9c092"
      },
      "outputs": [
        {
          "output_type": "stream",
          "name": "stdout",
          "text": [
            "64\n"
          ]
        }
      ],
      "source": [
        "path = 'grid_search_q2'\n",
        "path = 'grid_search_q3'\n",
        "#files.download(path)\n",
        "# Get history from the GS file\n",
        "#  TODO: should delete this before submition\n",
        "\"\"\"history_res = {}\n",
        "with open(path, \"rb\") as f:\n",
        "  objs = []\n",
        "  while 1:\n",
        "      try:\n",
        "          history_res.update(pickle.load(f))\n",
        "      except EOFError:\n",
        "          break\n",
        "print(len(history_res))\n",
        "\"\"\""
      ]
    },
    {
      "cell_type": "code",
      "execution_count": 18,
      "metadata": {
        "id": "5-A1NYW4atnf",
        "colab": {
          "base_uri": "https://localhost:8080/"
        },
        "outputId": "265547d1-459b-4d4e-d26f-5c15640e2feb"
      },
      "outputs": [
        {
          "output_type": "execute_result",
          "data": {
            "text/plain": [
              "{(0.0005, 0.2, 0.01): (0.2276, 2.1547690675228455, 88.95465397834778),\n",
              " (0.0005, 0.2, 0.1): (0.2992, 1.9623065009901794, 89.51448941230774),\n",
              " (0.0005, 0.2, 1): (0.247, 44.92620538156244, 89.52320694923401),\n",
              " (0.0005, 0.2, 2): (0.2482, 177.29121476185472, 90.36612725257874),\n",
              " (0.0005, 0.5, 0.01): (0.269, 2.0666204902190195, 89.72028803825378),\n",
              " (0.0005, 0.5, 0.1): (0.3408, 1.8862688465963435, 90.3808581829071),\n",
              " (0.0005, 0.5, 1): (0.2562, 30.5501213315167, 89.82803797721863),\n",
              " (0.0005, 0.5, 2): (0.2546, 125.93958707399005, 89.93946480751038),\n",
              " (0.0005, 0.8, 0.01): (0.3268, 1.8934784584407565, 90.21096706390381),\n",
              " (0.0005, 0.8, 0.1): (0.3856, 1.7434512572952463, 89.85004472732544),\n",
              " (0.0005, 0.8, 1): (0.254, 8.696901719781417, 90.61035251617432),\n",
              " (0.0005, 0.8, 2): (0.2642, 38.556882327115986, 91.02512764930725),\n",
              " (0.0005, 0.9, 0.01): (0.366, 1.7872617440887644, 91.70989036560059),\n",
              " (0.0005, 0.9, 0.1): (0.4184, 1.662591036361984, 91.01653909683228),\n",
              " (0.0005, 0.9, 1): (0.2552, 3.0401479730123206, 91.50865077972412),\n",
              " (0.0005, 0.9, 2): (0.2284, 8.515975119192388, 91.11922287940979),\n",
              " (0.001, 0.2, 0.01): (0.283, 2.011807615243936, 90.89750146865845),\n",
              " (0.001, 0.2, 0.1): (0.3584, 1.8334895523288581, 92.29141879081726),\n",
              " (0.001, 0.2, 1): (0.2386, 25.2382637217075, 91.8128445148468),\n",
              " (0.001, 0.2, 2): (0.2526, 105.37664147871959, 90.55702304840088),\n",
              " (0.001, 0.5, 0.01): (0.316, 1.9332732022563113, 90.66282105445862),\n",
              " (0.001, 0.5, 0.1): (0.3702, 1.782431133185761, 90.84742259979248),\n",
              " (0.001, 0.5, 1): (0.2742, 13.220293334767788, 90.79672932624817),\n",
              " (0.001, 0.5, 2): (0.2628, 53.09960565687735, 92.29380106925964),\n",
              " (0.001, 0.8, 0.01): (0.378, 1.782689678518078, 91.15028667449951),\n",
              " (0.001, 0.8, 0.1): (0.4036, 1.6697490290750432, 91.63507509231567),\n",
              " (0.001, 0.8, 1): (0.2684, 3.1754326428039166, 90.4971022605896),\n",
              " (0.001, 0.8, 2): (0.2166, 7.861115033113504, 73.59336495399475),\n",
              " (0.001, 0.9, 0.01): (0.4074, 1.6831911666483819, 73.74598670005798),\n",
              " (0.001, 0.9, 0.1): (0.439, 1.5877393619923652, 73.75206756591797),\n",
              " (0.001, 0.9, 1): (0.2762, 2.322463148756872, 73.54124021530151),\n",
              " (0.001, 0.9, 2): (0.2446, 3.325046388408806, 73.51589226722717),\n",
              " (0.01, 0.2, 0.01): (0.4258, 1.6134833821767494, 78.09859037399292),\n",
              " (0.01, 0.2, 0.1): (0.4662, 1.5324878451190418, 81.47236466407776),\n",
              " (0.01, 0.2, 1): (0.2308, 2.3928859173497066, 80.61418890953064),\n",
              " (0.01, 0.2, 2): (0.1728, 3.0750362541102154, 80.11801362037659),\n",
              " (0.01, 0.5, 0.01): (0.4582, 1.5415398682220072, 81.00312542915344),\n",
              " (0.01, 0.5, 0.1): (0.465, 1.5246056333372864, 81.29806327819824),\n",
              " (0.01, 0.5, 1): (0.2164, 2.3475570663621155, 81.56779980659485),\n",
              " (0.01, 0.5, 2): (0.1208, 3.0863332446617417, 81.30648398399353),\n",
              " (0.01, 0.8, 0.01): (0.4794, 1.4886192777488805, 84.20899295806885),\n",
              " (0.01, 0.8, 0.1): (0.4938, 1.4501752476148968, 86.4916090965271),\n",
              " (0.01, 0.8, 1): (0.161, 2.271545443353774, 91.66799736022949),\n",
              " (0.01, 0.8, 2): (0.1054, 2.564401258396197, 92.21823263168335),\n",
              " (0.01, 0.9, 0.01): (0.4624, 1.5343158229996887, 82.52731370925903),\n",
              " (0.01, 0.9, 0.1): (0.4764, 1.4631374923488762, 82.76759052276611),\n",
              " (0.01, 0.9, 1): (0.103, 2.314813091785093, 82.74447202682495),\n",
              " (0.01, 0.9, 2): (0.107, 2.3820315584351746, 83.3945894241333),\n",
              " (0.1, 0.2, 0.01): (0.4364, 1.5878565658496906, 83.40989184379578),\n",
              " (0.1, 0.2, 0.1): (0.4268, 1.5987921968291077, 82.55632424354553),\n",
              " (0.1, 0.2, 1): (0.0978, 2.3046887222724624, 83.17840719223022),\n",
              " (0.1, 0.2, 2): (0.1048, 2.3463004721870906, 83.15317392349243),\n",
              " (0.1, 0.5, 0.01): (0.3806, 1.732735808891586, 83.25086283683777),\n",
              " (0.1, 0.5, 0.1): (0.4062, 1.701458211186566, 83.58729481697083),\n",
              " (0.1, 0.5, 1): (0.1036, 2.296951764746557, 83.26982402801514),\n",
              " (0.1, 0.5, 2): (0.0958, 2.315583941302722, 83.47734355926514),\n",
              " (0.1, 0.8, 0.01): (0.1078, 2.3086713386487356, 83.7965521812439),\n",
              " (0.1, 0.8, 0.1): (0.1532, 2.213565876212301, 83.1795425415039),\n",
              " (0.1, 0.8, 1): (0.099, 2.299046957040135, 83.21995210647583),\n",
              " (0.1, 0.8, 2): (0.0984, 2.3032722171348863, 83.63662838935852),\n",
              " (0.1, 0.9, 0.01): (0.0982, 2.306756879709944, 83.44904947280884),\n",
              " (0.1, 0.9, 0.1): (0.1, 2.3073163907739183, 83.26772952079773),\n",
              " (0.1, 0.9, 1): (0.1064, 2.3023875363265414, 83.61775803565979),\n",
              " (0.1, 0.9, 2): (0.1036, 2.305307370197924, 83.30131721496582)}"
            ]
          },
          "metadata": {},
          "execution_count": 18
        }
      ],
      "source": [
        "history_res"
      ]
    },
    {
      "cell_type": "code",
      "source": [],
      "metadata": {
        "id": "u2TAAlgzPAIQ"
      },
      "execution_count": null,
      "outputs": []
    }
  ],
  "metadata": {
    "accelerator": "GPU",
    "colab": {
      "provenance": [],
      "include_colab_link": true
    },
    "gpuClass": "standard",
    "kernelspec": {
      "display_name": "Python 3",
      "name": "python3"
    },
    "language_info": {
      "name": "python"
    }
  },
  "nbformat": 4,
  "nbformat_minor": 0
}